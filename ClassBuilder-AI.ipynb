{
  "nbformat": 4,
  "nbformat_minor": 0,
  "metadata": {
    "colab": {
      "provenance": []
    },
    "kernelspec": {
      "name": "python3",
      "display_name": "Python 3"
    },
    "language_info": {
      "name": "python"
    }
  },
  "cells": [
    {
      "cell_type": "markdown",
      "source": [
        "## 1. Setup and Installation"
      ],
      "metadata": {
        "id": "Ez7TBFyFa1Dm"
      }
    },
    {
      "cell_type": "code",
      "execution_count": null,
      "metadata": {
        "id": "CLl1BJjgajB4"
      },
      "outputs": [],
      "source": [
        "# Install required libraries\n",
        "!pip install -q discord.py groq python-dotenv PyMuPDF"
      ]
    },
    {
      "cell_type": "markdown",
      "source": [
        "## 2. Imports and API Key Configuration"
      ],
      "metadata": {
        "id": "KKBzGFUna99b"
      }
    },
    {
      "cell_type": "code",
      "source": [
        "import discord\n",
        "from discord import app_commands\n",
        "import os\n",
        "import asyncio\n",
        "import fitz  # PyMuPDF\n",
        "from groq import Groq, AsyncGroq\n",
        "from google.colab import userdata\n",
        "from typing import Optional\n",
        "\n",
        "# --- Load Secrets ---\n",
        "# Load the discord bot token and API (groq) key in the secrets key section of Google Colab\n",
        "\n",
        "try:\n",
        "    DISCORD_BOT_TOKEN = userdata.get('DISCORD_BOT_TOKEN')\n",
        "    GROQ_API_KEY = userdata.get('GROQ_API_KEY')\n",
        "    print(\"✅ Secrets loaded successfully.\")\n",
        "except Exception as e:\n",
        "    print(f\"🚨 Error loading secrets: {e}. Please ensure DISCORD_BOT_TOKEN and GROQ_API_KEY are set in Colab Secrets.\")\n",
        "\n",
        "# --- Configuration ---\n",
        "MAX_FILE_SIZE = 15 * 1024 * 1024  # 15 MB"
      ],
      "metadata": {
        "id": "UmKRDJAVa0FN"
      },
      "execution_count": null,
      "outputs": []
    },
    {
      "cell_type": "markdown",
      "source": [
        "## 3. Groq AI Client"
      ],
      "metadata": {
        "id": "RDu2yC-6butb"
      }
    },
    {
      "cell_type": "code",
      "source": [
        "class GroqClient:\n",
        "    def __init__(self, api_key):\n",
        "        self.client = AsyncGroq(api_key=api_key)\n",
        "        self.model = \"llama3-70b-8192\" # Model\n",
        "\n",
        "    async def generate(self, messages: list, max_tokens=4096) -> str:\n",
        "        \"\"\"Generates a response from the Groq API using a message history.\"\"\"\n",
        "        try:\n",
        "            chat_completion = await self.client.chat.completions.create(\n",
        "                messages=messages,\n",
        "                model=self.model,\n",
        "                temperature=0.7,\n",
        "                max_tokens=max_tokens,\n",
        "            )\n",
        "            return chat_completion.choices[0].message.content\n",
        "        except Exception as e:\n",
        "            print(f\"🚨 Groq API Error: {e}\")\n",
        "            return \"Sorry, there was an error connecting to the AI service.\"\n",
        "\n",
        "# Instantiate the client\n",
        "groq_client = GroqClient(api_key=GROQ_API_KEY)\n",
        "print(\"🤖 Groq AI Client Initialized.\")"
      ],
      "metadata": {
        "id": "muKOFkmpRMnN"
      },
      "execution_count": null,
      "outputs": []
    },
    {
      "cell_type": "markdown",
      "source": [
        "## 4. Discord Bot and Helper Functions"
      ],
      "metadata": {
        "id": "nBhVBpXTcUNI"
      }
    },
    {
      "cell_type": "code",
      "source": [
        "# --- Discord Bot and Helper Functions ---\n",
        "\n",
        "# Bot setup with necessary intents\n",
        "intents = discord.Intents.default()\n",
        "intents.message_content = True\n",
        "client = discord.Client(intents=intents)\n",
        "tree = app_commands.CommandTree(client)\n",
        "\n",
        "# Attach the conversation history to the client instance for answering followup questions\n",
        "client.conversation_history = {}\n",
        "\n",
        "async def get_text_from_attachment(attachment: discord.Attachment) -> Optional[str]:\n",
        "    \"\"\"Extracts text from a discord.Attachment (supports PDF, TXT).\"\"\"\n",
        "    if attachment.size > MAX_FILE_SIZE:\n",
        "        return \"❌ File is too large. The maximum size is 15MB.\"\n",
        "\n",
        "    file_bytes = await attachment.read()\n",
        "    try:\n",
        "        if attachment.content_type == \"application/pdf\":\n",
        "            with fitz.open(stream=file_bytes, filetype=\"pdf\") as doc:\n",
        "                return \"\".join(page.get_text() for page in doc)\n",
        "        else:\n",
        "            return file_bytes.decode('utf-8')\n",
        "    except Exception as e:\n",
        "        print(f\"Error reading file: {e}\")\n",
        "        return f\"❌ Error reading file: {e}\"\n",
        "\n",
        "async def send_long_message(interaction: discord.Interaction, content: str, title: str):\n",
        "    \"\"\"Sends long messages in chunks using embeds.\"\"\"\n",
        "    embed = discord.Embed(title=f\"**{title}**\", color=discord.Color.blue())\n",
        "    for i in range(0, len(content), 4096):\n",
        "        chunk = content[i:i+4096]\n",
        "        embed.description = chunk\n",
        "        if i == 0:\n",
        "            await interaction.followup.send(embed=embed)\n",
        "        else:\n",
        "            await interaction.channel.send(embed=embed)\n",
        "\n",
        "async def send_long_reply(message: discord.Message, content: str):\n",
        "    \"\"\"Sends a long reply by splitting it into chunks.\"\"\"\n",
        "    if len(content) <= 2000:\n",
        "        await message.reply(content)\n",
        "        return\n",
        "\n",
        "    chunks = [content[i:i+1990] for i in range(0, len(content), 1990)]\n",
        "    first = True\n",
        "    for chunk in chunks:\n",
        "        if first:\n",
        "            await message.reply(chunk)\n",
        "            first = False\n",
        "        else:\n",
        "            await message.channel.send(chunk)"
      ],
      "metadata": {
        "id": "pLVpvlGcTM0I"
      },
      "execution_count": null,
      "outputs": []
    },
    {
      "cell_type": "markdown",
      "source": [
        "## 5. Bot Events (Ready, Greetings, General Q&A)"
      ],
      "metadata": {
        "id": "hRgNw0qicXSs"
      }
    },
    {
      "cell_type": "code",
      "source": [
        "# --- Bot Events (Ready, Greetings, General Q&A) ---\n",
        "\n",
        "@client.event\n",
        "async def on_ready():\n",
        "    await tree.sync()\n",
        "    print(f'✅ Logged in as {client.user}')\n",
        "    print('🚀 ClassBuilder is online and ready for Slash Commands!')\n",
        "\n",
        "@client.event\n",
        "async def on_message(message):\n",
        "    # Ignore messages from the bot itself\n",
        "    if message.author == client.user:\n",
        "        return\n",
        "\n",
        "    # Handle greetings\n",
        "    greetings = [\"hi\", \"hello\", \"hey\"]\n",
        "    if message.content.lower() in greetings:\n",
        "        # Clear memory on a new greeting\n",
        "        if message.channel.id in client.conversation_history:\n",
        "            del client.conversation_history[message.channel.id]\n",
        "\n",
        "        embed = discord.Embed(\n",
        "            title=\"👋 Hello! I'm the ClassBuilder AI Chatbot.\",\n",
        "            description=\"I can help you with your study materials. Here are my commands:\",\n",
        "            color=discord.Color.dark_teal()\n",
        "        )\n",
        "        embed.add_field(name=\"`/summary`\", value=\"Generates a summary of your text or PDF.\", inline=False)\n",
        "        embed.add_field(name=\"`/notes`\", value=\"Creates structured, pointwise notes.\", inline=False)\n",
        "        embed.add_field(name=\"`/quiz`\", value=\"Generates a practice quiz with answers.\", inline=False)\n",
        "        embed.add_field(name=\"`/export`\", value=\"Bundles a summary, notes, and quiz into a file.\", inline=False)\n",
        "        embed.add_field(name=\"`/clear`\", value=\"Deletes a specified number of recent messages.\", inline=False)\n",
        "        await message.channel.send(embed=embed)\n",
        "        return\n",
        "\n",
        "    # Handle general questions when the bot is mentioned\n",
        "    if client.user.mentioned_in(message):\n",
        "        async with message.channel.typing():\n",
        "            # Get or create the history for this channel\n",
        "            history = client.conversation_history.setdefault(message.channel.id, [])\n",
        "\n",
        "            # Add the new user message to history\n",
        "            user_prompt = message.content.replace(f'<@{client.user.id}>', '').strip()\n",
        "            history.append({\"role\": \"user\", \"content\": user_prompt})\n",
        "\n",
        "            # Keep the history to the last 10 messages\n",
        "            history = history[-10:]\n",
        "            client.conversation_history[message.channel.id] = history\n",
        "\n",
        "            # Prepare the full payload for the API\n",
        "            system_prompt = {\"role\": \"system\", \"content\": \"You are a helpful general knowledge assistant. Answer the user's question clearly and concisely based on the conversation history.\"}\n",
        "            messages_with_system_prompt = [system_prompt] + history\n",
        "\n",
        "            # Get the response from Groq\n",
        "            response = await groq_client.generate(messages_with_system_prompt)\n",
        "\n",
        "            # Add the bot's response to history\n",
        "            history.append({\"role\": \"assistant\", \"content\": response})\n",
        "\n",
        "            await send_long_reply(message, response)"
      ],
      "metadata": {
        "id": "jGdf-0aTR4OG"
      },
      "execution_count": null,
      "outputs": []
    },
    {
      "cell_type": "markdown",
      "source": [
        "## 6. Slash Command Definitions"
      ],
      "metadata": {
        "id": "eCQprGaaci7U"
      }
    },
    {
      "cell_type": "code",
      "source": [
        "# Summary\n",
        "@tree.command(name=\"summary\", description=\"Generates a summary of your text or PDF.\")\n",
        "@app_commands.describe(word_count=\"How long should the summary be (e.g., 100)?\", text=\"Text to summarize.\", attachment=\"File to summarize.\")\n",
        "async def summary(interaction: discord.Interaction, word_count: int = 100, text: Optional[str] = None, attachment: Optional[discord.Attachment] = None):\n",
        "    await interaction.response.defer()\n",
        "\n",
        "    if not text and not attachment:\n",
        "        await interaction.followup.send(\"Please provide either text or attach a file.\")\n",
        "        return\n",
        "\n",
        "    content = text or await get_text_from_attachment(attachment)\n",
        "    if content.startswith(\"❌\"):\n",
        "        await interaction.followup.send(content)\n",
        "        return\n",
        "\n",
        "    system_prompt = \"You are a highly skilled summarization engine.\"\n",
        "    user_prompt = f\"Summarize the following text in approximately {word_count} words:\\n\\n---\\n{content}\"\n",
        "\n",
        "    # Correctly format the messages into a list\n",
        "    messages = [\n",
        "        {\"role\": \"system\", \"content\": system_prompt},\n",
        "        {\"role\": \"user\", \"content\": user_prompt}\n",
        "    ]\n",
        "    result = await groq_client.generate(messages)\n",
        "    await send_long_message(interaction, result, \"📝 Summary\")\n",
        "\n",
        "# Notes\n",
        "@tree.command(name=\"notes\", description=\"Creates structured, pointwise notes from your text or PDF.\")\n",
        "@app_commands.describe(text=\"Text to turn into notes.\", attachment=\"File to turn into notes.\")\n",
        "async def notes(interaction: discord.Interaction, text: Optional[str] = None, attachment: Optional[discord.Attachment] = None):\n",
        "    await interaction.response.defer()\n",
        "\n",
        "    if not text and not attachment:\n",
        "        await interaction.followup.send(\"Please provide either text or attach a file.\")\n",
        "        return\n",
        "\n",
        "    content = text or await get_text_from_attachment(attachment)\n",
        "    if content.startswith(\"❌\"):\n",
        "        await interaction.followup.send(content)\n",
        "        return\n",
        "\n",
        "    system_prompt = \"You are an expert at creating structured study notes. You must use bullet points.\"\n",
        "    user_prompt = f\"Extract the key information from the following text and present it as clear, concise, pointwise notes. If possible, generate 10 or more points if the source material is sufficient:\\n\\n---\\n{content}\"\n",
        "\n",
        "    # Correctly format the messages into a list\n",
        "    messages = [\n",
        "        {\"role\": \"system\", \"content\": system_prompt},\n",
        "        {\"role\": \"user\", \"content\": user_prompt}\n",
        "    ]\n",
        "    result = await groq_client.generate(messages)\n",
        "    await send_long_message(interaction, result, \"📚 Notes\")\n",
        "\n",
        "# Quiz\n",
        "@tree.command(name=\"quiz\", description=\"Generates a practice quiz from your text or PDF.\")\n",
        "@app_commands.describe(num_questions=\"How many questions would you like?\", text=\"Text to create a quiz from.\", attachment=\"File to create a quiz from.\")\n",
        "async def quiz(interaction: discord.Interaction, num_questions: int = 5, text: Optional[str] = None, attachment: Optional[discord.Attachment] = None):\n",
        "    await interaction.response.defer()\n",
        "\n",
        "    if not text and not attachment:\n",
        "        await interaction.followup.send(\"Please provide either text or attach a file.\")\n",
        "        return\n",
        "\n",
        "    content = text or await get_text_from_attachment(attachment)\n",
        "    if content.startswith(\"❌\"):\n",
        "        await interaction.followup.send(content)\n",
        "        return\n",
        "\n",
        "    system_prompt = \"You are a quiz generation expert for academic and educational material. Your task is to create questions based ONLY on the main educational topics, concepts, and definitions in the provided text. You must ignore any metadata, such as author names, professor names, copyright notices, or course logistics. Focus strictly on the subject matter. Create questions with clear answers from the text and hide the answers with Discord's spoiler tags (||answer||).\"\n",
        "    user_prompt = f\"Generate a quiz with exactly {num_questions} questions from the following text. Remember to ignore metadata and focus only on the educational content. If you cannot generate the requested number of questions due to insufficient information, generate as many as you can and add a note at the very end explaining this (e.g., 'Note: I could only generate X questions from the provided text.'). Format as Q1, A1, Q2, A2, etc. and put all answers in spoiler tags.\\n\\n---\\n{content}\"\n",
        "\n",
        "    messages = [\n",
        "        {\"role\": \"system\", \"content\": system_prompt},\n",
        "        {\"role\": \"user\", \"content\": user_prompt}\n",
        "    ]\n",
        "    result = await groq_client.generate(messages)\n",
        "    await send_long_message(interaction, result, \"❓ Quiz\")\n",
        "\n",
        "# Export\n",
        "@tree.command(name=\"export\", description=\"Exports summary, notes, and quiz into a file.\")\n",
        "@app_commands.describe(format=\"The file format to export to.\", text=\"Text to process.\", attachment=\"File to process.\")\n",
        "@app_commands.choices(format=[\n",
        "    app_commands.Choice(name=\"Text File\", value=\"txt\"),\n",
        "    app_commands.Choice(name=\"JSON File\", value=\"json\"),\n",
        "])\n",
        "async def export(interaction: discord.Interaction, format: app_commands.Choice[str], text: Optional[str] = None, attachment: Optional[discord.Attachment] = None):\n",
        "    await interaction.response.defer()\n",
        "\n",
        "    if not text and not attachment:\n",
        "        await interaction.followup.send(\"Please provide either text or attach a file.\")\n",
        "        return\n",
        "\n",
        "    content = text or await get_text_from_attachment(attachment)\n",
        "    if content.startswith(\"❌\"):\n",
        "        await interaction.followup.send(content)\n",
        "        return\n",
        "\n",
        "    # Generate content with correctly formatted API calls\n",
        "    summary = await groq_client.generate([{\"role\": \"user\", \"content\": f\"Summarize this text concisely: {content}\"}])\n",
        "    notes = await groq_client.generate([{\"role\": \"user\", \"content\": f\"Create bullet-point notes from this text: {content}\"}])\n",
        "    quiz = await groq_client.generate([{\"role\": \"user\", \"content\": f\"Create a 5-question quiz from this text with answers in spoiler tags: {content}\"}])\n",
        "\n",
        "    # Prepare data for export\n",
        "    export_data = {\"summary\": summary, \"notes\": notes, \"quiz\": quiz}\n",
        "\n",
        "    if format.value == \"txt\":\n",
        "        file_content = f\"--- SUMMARY ---\\n{summary}\\n\\n--- NOTES ---\\n{notes}\\n\\n--- QUIZ ---\\n{quiz}\"\n",
        "        filename = \"export.txt\"\n",
        "    elif format.value == \"json\":\n",
        "        import json\n",
        "        file_content = json.dumps(export_data, indent=4)\n",
        "        filename = \"export.json\"\n",
        "\n",
        "    # Send the file\n",
        "    import io\n",
        "    file = discord.File(io.BytesIO(file_content.encode('utf-8')), filename=filename)\n",
        "    await interaction.followup.send(\"Here is your exported file:\", file=file)\n",
        "\n",
        "# Clear\n",
        "@tree.command(name=\"clear\", description=\"Deletes a specified number of recent messages.\")\n",
        "@app_commands.describe(amount=\"The number of messages to delete (e.g., 100).\")\n",
        "@app_commands.checks.has_permissions(manage_messages=True)\n",
        "async def clear(interaction: discord.Interaction, amount: int):\n",
        "    if amount <= 0:\n",
        "        await interaction.response.send_message(\"Please provide a number greater than 0.\", ephemeral=True)\n",
        "        return\n",
        "\n",
        "    await interaction.response.defer(ephemeral=True)\n",
        "    deleted = await interaction.channel.purge(limit=amount)\n",
        "    await interaction.followup.send(f\"✅ Successfully deleted {len(deleted)} messages.\", ephemeral=True)\n",
        "\n",
        "@clear.error\n",
        "async def clear_error(interaction: discord.Interaction, error: app_commands.AppCommandError):\n",
        "    if isinstance(error, app_commands.MissingPermissions):\n",
        "        await interaction.response.send_message(\"❌ You don't have the `Manage Messages` permission to use this command.\", ephemeral=True)\n"
      ],
      "metadata": {
        "id": "jJMqrDflk1jq"
      },
      "execution_count": null,
      "outputs": []
    },
    {
      "cell_type": "markdown",
      "source": [
        "## 7. Main Execution Block"
      ],
      "metadata": {
        "id": "c2eRqM2KcqCx"
      }
    },
    {
      "cell_type": "code",
      "source": [
        "# --- Main Execution ---\n",
        "if not DISCORD_BOT_TOKEN or not GROQ_API_KEY:\n",
        "    print(\"🚨 FATAL ERROR: Secrets not found. Please follow the instructions in Cell 2.\")\n",
        "else:\n",
        "    try:\n",
        "        await client.start(DISCORD_BOT_TOKEN)\n",
        "    except discord.errors.LoginFailure:\n",
        "        print(\"🚨 FATAL ERROR: Invalid Discord token.\")\n",
        "    except Exception as e:\n",
        "        print(f\"An unexpected error occurred: {e}\")"
      ],
      "metadata": {
        "id": "cXNfM8WecpM8"
      },
      "execution_count": null,
      "outputs": []
    },
    {
      "cell_type": "code",
      "source": [],
      "metadata": {
        "id": "CJUR9dOzd8-t"
      },
      "execution_count": null,
      "outputs": []
    }
  ]
}